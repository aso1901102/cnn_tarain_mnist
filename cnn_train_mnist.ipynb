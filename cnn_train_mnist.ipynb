{
  "nbformat": 4,
  "nbformat_minor": 0,
  "metadata": {
    "colab": {
      "name": "cnn_train_mnist.ipynb",
      "provenance": [],
      "collapsed_sections": [],
      "include_colab_link": true
    },
    "kernelspec": {
      "name": "python3",
      "display_name": "Python 3"
    }
  },
  "cells": [
    {
      "cell_type": "markdown",
      "metadata": {
        "id": "view-in-github",
        "colab_type": "text"
      },
      "source": [
        "<a href=\"https://colab.research.google.com/github/aso1901102/cnn_tarain_mnist/blob/master/cnn_train_mnist.ipynb\" target=\"_parent\"><img src=\"https://colab.research.google.com/assets/colab-badge.svg\" alt=\"Open In Colab\"/></a>"
      ]
    },
    {
      "cell_type": "code",
      "metadata": {
        "id": "EI-6XVhZNnol",
        "colab_type": "code",
        "colab": {
          "base_uri": "https://localhost:8080/",
          "height": 34
        },
        "outputId": "51584aea-5110-4aff-a677-ca2b3b4c072f"
      },
      "source": [
        "# coding: utf-8\n",
        "# CNN を使った学習の例\n",
        "\n",
        "# Kerasとその他ライブラリをインポート\n",
        "import keras\n",
        "from keras.models import Sequential, Model\n",
        "from keras.layers import Dense, Activation, Flatten, Conv2D, Dropout, MaxPooling2D\n",
        "from keras.utils import np_utils\n",
        "from keras.optimizers import SGD\n",
        "import keras.callbacks as callbacks\n",
        "%matplotlib inline\n",
        "import matplotlib.pyplot as plt\n",
        "import numpy as np"
      ],
      "execution_count": null,
      "outputs": [
        {
          "output_type": "stream",
          "text": [
            "Using TensorFlow backend.\n"
          ],
          "name": "stderr"
        }
      ]
    },
    {
      "cell_type": "code",
      "metadata": {
        "id": "NEdP_1nuOu4i",
        "colab_type": "code",
        "colab": {
          "base_uri": "https://localhost:8080/",
          "height": 52
        },
        "outputId": "7ed8d583-03e3-41f8-a5d5-178aba9dccd2"
      },
      "source": [
        "# MNIST\n",
        "from keras.datasets import mnist\n",
        "\n",
        "# MNISTデータを読み込み\n",
        "(x_train, y_train), (x_test, y_test) = mnist.load_data()\n",
        "#画像の正規化\n",
        "# 3次元配列(60000, 28, 28)を2次元配列(60000, 28×28)に変換。\n",
        "x_train = x_train.reshape(60000, 28, 28, 1).astype('float32')\n",
        "x_test = x_test.reshape(10000, 28, 28, 1).astype('float32')\n",
        "# 各要素の0～255をを255で割って0～1.0のデータに正規化。\n",
        "x_train /= 255\n",
        "x_test /= 255\n",
        "# 正解データをOne-hotに変換。\n",
        "y_train = keras.utils.to_categorical(y_train, 10)\n",
        "y_test= keras.utils.to_categorical(y_test, 10)"
      ],
      "execution_count": null,
      "outputs": [
        {
          "output_type": "stream",
          "text": [
            "Downloading data from https://s3.amazonaws.com/img-datasets/mnist.npz\n",
            "11493376/11490434 [==============================] - 1s 0us/step\n"
          ],
          "name": "stdout"
        }
      ]
    },
    {
      "cell_type": "code",
      "metadata": {
        "id": "f7ixjJwJPk6p",
        "colab_type": "code",
        "colab": {
          "base_uri": "https://localhost:8080/",
          "height": 369
        },
        "outputId": "fcdf9d76-4c63-4e0a-ae76-3c02cbd344e4"
      },
      "source": [
        "# 畳み込みニューラルネットワークのモデルを作成\n",
        "model = Sequential()\n",
        "model.add(Conv2D(filters=32, kernel_size=(3, 3), input_shape=(28, 28, 1), activation='relu'))\n",
        "model.add(MaxPooling2D(pool_size=(2, 2)))\n",
        "model.add(Dropout(rate=0.25))\n",
        "model.add(Flatten())\n",
        "model.add(Dense(units=128, activation='relu'))\n",
        "model.add(Dense(units=10, activation='softmax'))\n",
        "model.summary()"
      ],
      "execution_count": null,
      "outputs": [
        {
          "output_type": "stream",
          "text": [
            "Model: \"sequential_1\"\n",
            "_________________________________________________________________\n",
            "Layer (type)                 Output Shape              Param #   \n",
            "=================================================================\n",
            "conv2d_1 (Conv2D)            (None, 26, 26, 32)        320       \n",
            "_________________________________________________________________\n",
            "max_pooling2d_1 (MaxPooling2 (None, 13, 13, 32)        0         \n",
            "_________________________________________________________________\n",
            "dropout_1 (Dropout)          (None, 13, 13, 32)        0         \n",
            "_________________________________________________________________\n",
            "flatten_1 (Flatten)          (None, 5408)              0         \n",
            "_________________________________________________________________\n",
            "dense_1 (Dense)              (None, 128)               692352    \n",
            "_________________________________________________________________\n",
            "dense_2 (Dense)              (None, 10)                1290      \n",
            "=================================================================\n",
            "Total params: 693,962\n",
            "Trainable params: 693,962\n",
            "Non-trainable params: 0\n",
            "_________________________________________________________________\n"
          ],
          "name": "stdout"
        }
      ]
    },
    {
      "cell_type": "code",
      "metadata": {
        "id": "BaQmPN1LSQk8",
        "colab_type": "code",
        "colab": {}
      },
      "source": [
        "# モデルのコンパイル\n",
        "#model.compile(loss='mean_squared_error', optimizer='sgd', metrics=['accuracy'])\n",
        "model.compile(loss='categorical_crossentropy', optimizer='sgd', metrics=['accuracy'])"
      ],
      "execution_count": null,
      "outputs": []
    },
    {
      "cell_type": "code",
      "metadata": {
        "id": "WeNw7gGGSrUs",
        "colab_type": "code",
        "colab": {
          "base_uri": "https://localhost:8080/",
          "height": 386
        },
        "outputId": "a8750e47-c46d-4d26-c142-1555ef08c15b"
      },
      "source": [
        "# モデルの訓練（学習）\n",
        "earlyStopping = callbacks.EarlyStopping(monitor='val_loss', patience=5) # 早期終了を設定\n",
        "hist = model.fit(x_train, y_train, batch_size=128, epochs=10, callbacks=[earlyStopping], validation_split=0.2)"
      ],
      "execution_count": null,
      "outputs": [
        {
          "output_type": "stream",
          "text": [
            "Train on 48000 samples, validate on 12000 samples\n",
            "Epoch 1/10\n",
            "48000/48000 [==============================] - 24s 496us/step - loss: 1.0697 - accuracy: 0.7135 - val_loss: 0.3891 - val_accuracy: 0.8932\n",
            "Epoch 2/10\n",
            "48000/48000 [==============================] - 24s 491us/step - loss: 0.4041 - accuracy: 0.8817 - val_loss: 0.3072 - val_accuracy: 0.9116\n",
            "Epoch 3/10\n",
            "48000/48000 [==============================] - 24s 491us/step - loss: 0.3483 - accuracy: 0.8969 - val_loss: 0.2731 - val_accuracy: 0.9222\n",
            "Epoch 4/10\n",
            "48000/48000 [==============================] - 24s 491us/step - loss: 0.3129 - accuracy: 0.9067 - val_loss: 0.2499 - val_accuracy: 0.9298\n",
            "Epoch 5/10\n",
            "48000/48000 [==============================] - 24s 493us/step - loss: 0.2883 - accuracy: 0.9144 - val_loss: 0.2307 - val_accuracy: 0.9328\n",
            "Epoch 6/10\n",
            "48000/48000 [==============================] - 24s 490us/step - loss: 0.2654 - accuracy: 0.9213 - val_loss: 0.2159 - val_accuracy: 0.9388\n",
            "Epoch 7/10\n",
            "48000/48000 [==============================] - 24s 491us/step - loss: 0.2454 - accuracy: 0.9271 - val_loss: 0.2008 - val_accuracy: 0.9420\n",
            "Epoch 8/10\n",
            "48000/48000 [==============================] - 24s 490us/step - loss: 0.2310 - accuracy: 0.9314 - val_loss: 0.1859 - val_accuracy: 0.9477\n",
            "Epoch 9/10\n",
            "48000/48000 [==============================] - 23s 488us/step - loss: 0.2154 - accuracy: 0.9358 - val_loss: 0.1799 - val_accuracy: 0.9484\n",
            "Epoch 10/10\n",
            "48000/48000 [==============================] - 23s 489us/step - loss: 0.2025 - accuracy: 0.9404 - val_loss: 0.1663 - val_accuracy: 0.9525\n"
          ],
          "name": "stdout"
        }
      ]
    },
    {
      "cell_type": "code",
      "metadata": {
        "id": "vboKWpALOpN_",
        "colab_type": "code",
        "colab": {
          "base_uri": "https://localhost:8080/",
          "height": 52
        },
        "outputId": "999659a1-f644-43a1-cff0-e99f742da9ef"
      },
      "source": [
        "# 学習済みモデルをテスト(評価)する\n",
        "score = model.evaluate(x_test, y_test, verbose=0)\n",
        "print('test loss:', score[0]) # 損失\n",
        "print('test acc:', score[1])  # 精度（正答率）"
      ],
      "execution_count": null,
      "outputs": [
        {
          "output_type": "stream",
          "text": [
            "test loss: 0.16173526813685893\n",
            "test acc: 0.9537000060081482\n"
          ],
          "name": "stdout"
        }
      ]
    },
    {
      "cell_type": "code",
      "metadata": {
        "id": "V8nrkGXCPR0J",
        "colab_type": "code",
        "colab": {
          "base_uri": "https://localhost:8080/",
          "height": 279
        },
        "outputId": "6e1a3e39-855f-42c2-f956-2b3f8e317fde"
      },
      "source": [
        "# 学習結果を表示\n",
        "loss = hist.history['loss']\n",
        "val_loss = hist.history['val_loss']\n",
        "epochs = len(loss)\n",
        "plt.plot(range(epochs), loss, marker='.', label='loss(training data)')\n",
        "plt.plot(range(epochs), val_loss, marker='.', label='val_loss(evaluationdata)')\n",
        "plt.legend(loc='best')\n",
        "plt.grid()\n",
        "plt.xlabel('epoch')\n",
        "plt.ylabel('loss')\n",
        "plt.show()"
      ],
      "execution_count": null,
      "outputs": [
        {
          "output_type": "display_data",
          "data": {
            "image/png": "[encoded data removed]",
            "text/plain": [
              "<Figure size 432x288 with 1 Axes>"
            ]
          },
          "metadata": {
            "tags": [],
            "needs_background": "light"
          }
        }
      ]
    },
    {
      "cell_type": "code",
      "metadata": {
        "id": "QTGPQrqy0e9R",
        "colab_type": "code",
        "colab": {}
      },
      "source": [
        ""
      ],
      "execution_count": null,
      "outputs": []
    }
  ]
}